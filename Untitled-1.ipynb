{
 "cells": [
  {
   "cell_type": "code",
   "execution_count": 19,
   "metadata": {},
   "outputs": [
    {
     "name": "stdout",
     "output_type": "stream",
     "text": [
      "Primera derivada:  3*x**2\n",
      "Segunda derivada:  3*y**2\n",
      "Valor del primer resultado derivado: 3\n",
      "Valor del segundo resultado derivado:  3\n",
      "El valor de a es:  -1\n",
      "Primera derivada:  3*x**2\n",
      "Segunda derivada:  3*y**2\n",
      "Valor del primer resultado derivado: 12\n",
      "Valor del segundo resultado derivado:  12\n",
      "El valor de a es:  15\n"
     ]
    }
   ],
   "source": [
    "import sympy as sp\n",
    "import numpy as np\n",
    "\n",
    "from tkinter import *\n",
    "\n",
    "x,y,z,w,sin,cos,tan,cot,sec,csc,asin,acos,atan,acot,asec,acsc = sp.symbols('x y z w sin cos tan cot sec csc asin acos atan acot asec acsc')\n",
    "ventana = Tk()\n",
    "ventana.title(\"Calculadora\")\n",
    "ventana.geometry(\"400x400\")\n",
    "\n",
    "lblexp = Label(ventana, text=\"Expresion: \")\n",
    "lblexp.grid(column=0, row=0, padx=20, pady=20)\n",
    "\n",
    "cajaexp = Variable()\n",
    "cajaexp = Entry(ventana, width=30, textvariable=cajaexp)\n",
    "cajaexp.grid(column=1, row=0, padx=20, pady=20)\n",
    "\n",
    "lblx = Label(ventana, text=\"Valor de x: \")\n",
    "lblx.grid(column=0, row=1, padx=20, pady=20)\n",
    "\n",
    "cajax = Variable()\n",
    "cajax = Entry(ventana, width=30, textvariable=cajax)\n",
    "cajax.grid(column=1, row=1, padx=20, pady=20)\n",
    "\n",
    "lbly = Label(ventana, text=\"Valor de y: \")\n",
    "lbly.grid(column=0, row=2, padx=20, pady=20)\n",
    "\n",
    "cajay = Variable()\n",
    "cajay = Entry(ventana, width=30, textvariable=cajay)\n",
    "cajay.grid(column=1, row=2, padx=20, pady=20)\n",
    "\n",
    "\n",
    "\n",
    "def funcion():\n",
    "    x = int(cajax.get())\n",
    "    y = int(cajay.get())\n",
    "    matriz = np.array([x,y])\n",
    "    \n",
    "\n",
    "    def funcion2(x,y):\n",
    "        expr = cajaexp.get()\n",
    "        a = eval(expr)\n",
    "\n",
    "        x1,y1 = sp.symbols('x y')\n",
    "\n",
    "        derivada_x = sp.diff(str(expr),x1)\n",
    "        print(\"Primera derivada: \",derivada_x)\n",
    "\n",
    "        derivada_y = sp.diff(str(expr),y1)\n",
    "        print(\"Segunda derivada: \",derivada_y)\n",
    "\n",
    "        deri1 = eval(str(derivada_x))\n",
    "        print(\"Valor del primer resultado derivado:\",deri1)\n",
    "\n",
    "        deri2 =eval(str(derivada_y))\n",
    "        print(\"Valor del segundo resultado derivado: \", deri2)\n",
    "        return a\n",
    "\n",
    "    a = funcion2(x,y)\n",
    "    print(\"El valor de a es: \", a)\n",
    "\n",
    "botonevaluar = Button(ventana, text=\"Evaluar\", command=funcion)\n",
    "botonevaluar.grid(column=1, row=3, padx=20, pady=20)\n",
    "ventana.mainloop()\n",
    "\n",
    "\n"
   ]
  }
 ],
 "metadata": {
  "interpreter": {
   "hash": "253137caf07aa88084339d03004471e3ca5786e7473740d715f2861803328686"
  },
  "kernelspec": {
   "display_name": "Python 3.10.2 64-bit",
   "language": "python",
   "name": "python3"
  },
  "language_info": {
   "codemirror_mode": {
    "name": "ipython",
    "version": 3
   },
   "file_extension": ".py",
   "mimetype": "text/x-python",
   "name": "python",
   "nbconvert_exporter": "python",
   "pygments_lexer": "ipython3",
   "version": "3.10.2"
  },
  "orig_nbformat": 4
 },
 "nbformat": 4,
 "nbformat_minor": 2
}
