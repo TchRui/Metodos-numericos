{
 "cells": [
  {
   "cell_type": "code",
   "execution_count": null,
   "metadata": {},
   "outputs": [],
   "source": [
    "import numpy as np\n",
    "\n",
    "def fx(x):\n",
    "    return np.exp(-x)-x\n",
    "\n",
    "def gx(x):\n",
    "    return np.exp(-x)\n",
    "\n",
    "Tolerancia=0.0001\n",
    "xi=0\n",
    "Error=np.abs(gx(xi)-xi)\n",
    "i=0\n",
    "while (Error>Tolerancia and i<=100):\n",
    "    if i>0:\n",
    "        Error=np.abs(gx(xi)-xi)\n",
    "    xi=gx(xi)\n",
    "    i=i+1\n",
    "\n",
    "print(\"El valor de x, tal que f(x)=0 es : \",xi)    "
   ]
  },
  {
   "cell_type": "markdown",
   "metadata": {},
   "source": [
    "Metodo del punto fijo"
   ]
  },
  {
   "cell_type": "code",
   "execution_count": 1,
   "metadata": {},
   "outputs": [
    {
     "ename": "NameError",
     "evalue": "name 'xi' is not defined",
     "output_type": "error",
     "traceback": [
      "\u001b[1;31m---------------------------------------------------------------------------\u001b[0m",
      "\u001b[1;31mNameError\u001b[0m                                 Traceback (most recent call last)",
      "\u001b[1;32md:\\1 Programación Semestre IV\\Metodos numéricos\\Punto_fijo grafico.ipynb Cell 3'\u001b[0m in \u001b[0;36m<cell line: 11>\u001b[1;34m()\u001b[0m\n\u001b[0;32m      <a href='vscode-notebook-cell:/d%3A/1%20Programaci%C3%B3n%20Semestre%20IV/Metodos%20num%C3%A9ricos/Punto_fijo%20grafico.ipynb#ch0000002?line=7'>8</a>\u001b[0m     \u001b[39mreturn\u001b[39;00m np\u001b[39m.\u001b[39mexp(\u001b[39m-\u001b[39mx)\n\u001b[0;32m     <a href='vscode-notebook-cell:/d%3A/1%20Programaci%C3%B3n%20Semestre%20IV/Metodos%20num%C3%A9ricos/Punto_fijo%20grafico.ipynb#ch0000002?line=9'>10</a>\u001b[0m Tolerancia\u001b[39m=\u001b[39m\u001b[39m0\u001b[39m\n\u001b[1;32m---> <a href='vscode-notebook-cell:/d%3A/1%20Programaci%C3%B3n%20Semestre%20IV/Metodos%20num%C3%A9ricos/Punto_fijo%20grafico.ipynb#ch0000002?line=10'>11</a>\u001b[0m Error\u001b[39m=\u001b[39mnp\u001b[39m.\u001b[39mabs(gx(xi)\u001b[39m-\u001b[39mxi)\n\u001b[0;32m     <a href='vscode-notebook-cell:/d%3A/1%20Programaci%C3%B3n%20Semestre%20IV/Metodos%20num%C3%A9ricos/Punto_fijo%20grafico.ipynb#ch0000002?line=12'>13</a>\u001b[0m xi\u001b[39m=\u001b[39m\u001b[39m0\u001b[39m\n\u001b[0;32m     <a href='vscode-notebook-cell:/d%3A/1%20Programaci%C3%B3n%20Semestre%20IV/Metodos%20num%C3%A9ricos/Punto_fijo%20grafico.ipynb#ch0000002?line=13'>14</a>\u001b[0m i\u001b[39m=\u001b[39m\u001b[39m0\u001b[39m\n",
      "\u001b[1;31mNameError\u001b[0m: name 'xi' is not defined"
     ]
    }
   ],
   "source": [
    "import numpy as np\n",
    "import matplotlib.pyplot as plt \n",
    "\n",
    "def fx(x):\n",
    "    return np.exp(-x)-x\n",
    "\n",
    "def gx(x):\n",
    "    return np.exp(-x)\n",
    "\n",
    "Tolerancia=0\n",
    "Error=np.abs(gx(xi)-xi)\n",
    "\n",
    "xi=0\n",
    "i=0\n",
    "\n",
    "while (Error > Tolerancia and i <= 100):\n",
    "\n",
    "    if i> 0:\n",
    "        Error=np.abs(gx(xi)-xi)\n",
    "        \n",
    "    xi=gx(xi)\n",
    "    i=i+1\n",
    "\n",
    "print(\"El valor de x, tal que f(x)=0 es : \",xi)\n",
    "\n",
    "x=np.linspace(0,1.5,100)\n",
    "plt.title(\"Metodo de aproximaciones susecivas\")\n",
    "plt.plot(x,fx(x),label=\"F(x)\")\n",
    "plt.plot(x,gx(x),label=\"g(x)\")\n",
    "plt.plot(x,x,label=\"f(x)==x\")\n",
    "plt.axvline(xi,label=\"f(x)==0, x==(xi:.6f)\",color=\"k\")\n",
    "plt.axhline(0,color=\"k\")\n",
    "plt.legend(loc=\"upper right\")\n",
    "\n",
    "plt.grid()\n",
    "plt.show()"
   ]
  }
 ],
 "metadata": {
  "interpreter": {
   "hash": "253137caf07aa88084339d03004471e3ca5786e7473740d715f2861803328686"
  },
  "kernelspec": {
   "display_name": "Python 3.10.2 64-bit",
   "language": "python",
   "name": "python3"
  },
  "language_info": {
   "codemirror_mode": {
    "name": "ipython",
    "version": 3
   },
   "file_extension": ".py",
   "mimetype": "text/x-python",
   "name": "python",
   "nbconvert_exporter": "python",
   "pygments_lexer": "ipython3",
   "version": "3.10.2"
  },
  "orig_nbformat": 4
 },
 "nbformat": 4,
 "nbformat_minor": 2
}
